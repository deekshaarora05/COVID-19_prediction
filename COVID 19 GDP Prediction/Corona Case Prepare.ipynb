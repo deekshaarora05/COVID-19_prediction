{
 "cells": [
  {
   "cell_type": "code",
   "execution_count": 1,
   "metadata": {},
   "outputs": [],
   "source": [
    "import pandas as pd\n",
    "import numpy as np\n",
    "import math\n",
    "\n",
    "def file_reader(file_location):\n",
    "    if(file_location.endswith('csv')):\n",
    "        return pd.read_csv( file_location , engine = 'python',encoding = \"utf-8\", index_col = 0)\n",
    "    elif (file_location.endswith('tsv')):\n",
    "        return pd.read_csv( file_location , engine = 'python' ,sep = '\\t')"
   ]
  },
  {
   "cell_type": "code",
   "execution_count": 2,
   "metadata": {},
   "outputs": [],
   "source": [
    "def year_float2str(year_quarter):\n",
    "    if ( year_quarter - int(year_quarter) == 0):\n",
    "        return ( str( int(year_quarter) - 1 ) + \"Q4\")\n",
    "    elif ( year_quarter - int(year_quarter) == 0.25):\n",
    "        return ( str( int(year_quarter) ) + \"Q1\")\n",
    "    elif ( year_quarter - int(year_quarter) == 0.5):\n",
    "        return ( str( int(year_quarter) ) + \"Q2\")\n",
    "    elif( year_quarter - int(year_quarter) == 0.75):\n",
    "        return ( str( int(year_quarter) ) + \"Q3\")\n",
    "    \n",
    "def year_str2float(year_quarter):\n",
    "    if ( year_quarter.endswith('Q1') ):\n",
    "        return int(year_quarter[:-2]) + 0.25\n",
    "    elif( year_quarter.endswith('Q2') ):\n",
    "        return int(year_quarter[:-2]) + 0.50\n",
    "    elif( year_quarter.endswith('Q3') ):\n",
    "        return int(year_quarter[:-2]) + 0.75\n",
    "    elif( year_quarter.endswith('Q4') ):\n",
    "        return int(year_quarter[:-2]) + 1.00"
   ]
  },
  {
   "cell_type": "code",
   "execution_count": 3,
   "metadata": {},
   "outputs": [],
   "source": [
    "df = file_reader('Initial_Datasets/corona_cases.csv')"
   ]
  },
  {
   "cell_type": "code",
   "execution_count": 4,
   "metadata": {},
   "outputs": [],
   "source": [
    "xf = np.linspace(2000.25, 2020.00, 80)\n",
    "x_index = [ year_float2str( xvalue ) for xvalue in xf]\n",
    "zero_list = [0 for x in range(12)]"
   ]
  },
  {
   "cell_type": "code",
   "execution_count": 5,
   "metadata": {},
   "outputs": [],
   "source": [
    "outdf = pd.DataFrame()\n",
    "outdf['Country'] = df['Country']\n",
    "for x in x_index:\n",
    "    outdf[x] = zero_list\n",
    "outdf['2020Q1'] = df['2020Q1']\n",
    "outdf['2020Q2'] = df['2020Q2']\n",
    "outdf['2020Q3'] = df['2020Q3']\n",
    "outdf = outdf.set_index('Country').T"
   ]
  },
  {
   "cell_type": "code",
   "execution_count": 6,
   "metadata": {},
   "outputs": [],
   "source": [
    "outdf.to_csv('Filtered Datasets/corona_cases.csv')"
   ]
  },
  {
   "cell_type": "code",
   "execution_count": null,
   "metadata": {},
   "outputs": [],
   "source": []
  },
  {
   "cell_type": "code",
   "execution_count": null,
   "metadata": {},
   "outputs": [],
   "source": []
  },
  {
   "cell_type": "code",
   "execution_count": null,
   "metadata": {},
   "outputs": [],
   "source": []
  }
 ],
 "metadata": {
  "kernelspec": {
   "display_name": "Python 3",
   "language": "python",
   "name": "python3"
  },
  "language_info": {
   "codemirror_mode": {
    "name": "ipython",
    "version": 3
   },
   "file_extension": ".py",
   "mimetype": "text/x-python",
   "name": "python",
   "nbconvert_exporter": "python",
   "pygments_lexer": "ipython3",
   "version": "3.6.8"
  }
 },
 "nbformat": 4,
 "nbformat_minor": 4
}
