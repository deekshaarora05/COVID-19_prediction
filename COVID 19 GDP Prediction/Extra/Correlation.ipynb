{
 "cells": [
  {
   "cell_type": "code",
   "execution_count": 1,
   "metadata": {},
   "outputs": [],
   "source": [
    "import pandas as pd\n",
    "import numpy as np\n",
    "import math\n",
    "from sklearn import linear_model,ensemble,tree\n",
    "from sklearn.model_selection import train_test_split\n",
    "\n",
    "def file_reader(file_location):\n",
    "    if(file_location.endswith('csv')):\n",
    "        return pd.read_csv( file_location , engine = 'python', index_col=0)\n",
    "    elif (file_location.endswith('tsv')):\n",
    "        return pd.read_csv( file_location , engine = 'python' ,sep = '\\t')"
   ]
  },
  {
   "cell_type": "code",
   "execution_count": 2,
   "metadata": {},
   "outputs": [],
   "source": [
    "strlist = [\n",
    "    'above65.csv',\n",
    "    #'area.csv',\n",
    "    #'literacy_rate.csv',\n",
    "    #'corona_cases.csv',\n",
    "    'mobile_users.csv',\n",
    "    'total_pop.csv',\n",
    "    'unemployed.csv'\n",
    "    \n",
    "      ]"
   ]
  },
  {
   "cell_type": "code",
   "execution_count": 3,
   "metadata": {},
   "outputs": [],
   "source": [
    "dfx = {}\n",
    "for str in strlist:\n",
    "    dfx[str] = file_reader('dataset/'+str)\n",
    "dfy = file_reader('dataset/gdp_change.csv')\n",
    "countries = file_reader('dataset/countries.csv')"
   ]
  },
  {
   "cell_type": "code",
   "execution_count": 6,
   "metadata": {},
   "outputs": [],
   "source": [
    "countries = countries.drop(countries.index[12])"
   ]
  },
  {
   "cell_type": "code",
   "execution_count": 7,
   "metadata": {},
   "outputs": [],
   "source": [
    "corrdf = pd.DataFrame()\n",
    "for country in countries['Country']:\n",
    "    newdf = pd.DataFrame()\n",
    "    for feature in strlist:\n",
    "        newdf[feature] = dfx[feature][country][:-2]\n",
    "    newdf['GDP_Change'] = dfy[country]\n",
    "    corrdf[country] = newdf.corr()['GDP_Change']"
   ]
  },
  {
   "cell_type": "code",
   "execution_count": 9,
   "metadata": {},
   "outputs": [],
   "source": [
    "corrdf.to_csv('corr.csv')"
   ]
  },
  {
   "cell_type": "code",
   "execution_count": 23,
   "metadata": {},
   "outputs": [
    {
     "name": "stdout",
     "output_type": "stream",
     "text": [
      "3    Turkey\n",
      "3    Greece\n",
      "2    Hungary\n",
      "4    India\n",
      "2    Russian Federation\n",
      "4    Indonesia\n",
      "3    Italy\n",
      "2    Cyprus\n",
      "4    Montenegro\n",
      "3    Romania\n",
      "3    Ecuador\n",
      "2    Australia\n",
      "2    France\n",
      "4    Argentina\n",
      "3    Albania\n",
      "4    Mauritius\n",
      "3    Brazil\n",
      "2    China\n",
      "3    Spain\n",
      "3    Saudi Arabia\n"
     ]
    }
   ],
   "source": [
    "for x in corrdf:\n",
    "    temp = corrdf[x]\n",
    "    t = temp[abs(temp) > 0.4].count() - 1\n",
    "    if( t > 1):\n",
    "        print(t, '  ',x)"
   ]
  },
  {
   "cell_type": "code",
   "execution_count": null,
   "metadata": {},
   "outputs": [],
   "source": []
  }
 ],
 "metadata": {
  "kernelspec": {
   "display_name": "Python 3",
   "language": "python",
   "name": "python3"
  },
  "language_info": {
   "codemirror_mode": {
    "name": "ipython",
    "version": 3
   },
   "file_extension": ".py",
   "mimetype": "text/x-python",
   "name": "python",
   "nbconvert_exporter": "python",
   "pygments_lexer": "ipython3",
   "version": "3.6.8"
  }
 },
 "nbformat": 4,
 "nbformat_minor": 4
}
