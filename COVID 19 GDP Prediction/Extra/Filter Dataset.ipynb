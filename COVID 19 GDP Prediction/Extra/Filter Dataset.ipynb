{
 "cells": [
  {
   "cell_type": "code",
   "execution_count": 1,
   "metadata": {},
   "outputs": [],
   "source": [
    "import pandas as pd\n",
    "import numpy as np\n",
    "import math\n",
    "\n",
    "def file_reader(file_location):\n",
    "    if(file_location.endswith('csv')):\n",
    "        return pd.read_csv( file_location , engine = 'python', index_col = 0)\n",
    "    elif (file_location.endswith('tsv')):\n",
    "        return pd.read_csv( file_location , engine = 'python' ,sep = '\\t')"
   ]
  },
  {
   "cell_type": "code",
   "execution_count": 2,
   "metadata": {},
   "outputs": [],
   "source": [
    "strlist = [\n",
    "    'above65.csv',\n",
    "    #'area.csv',\n",
    "    #'literacy_rate.csv',\n",
    "    'mobile_users.csv',\n",
    "    'total_pop.csv',\n",
    "    'unemployed.csv',\n",
    "    'gdp_change.csv'\n",
    "      ]"
   ]
  },
  {
   "cell_type": "code",
   "execution_count": 3,
   "metadata": {},
   "outputs": [],
   "source": [
    "countries = list( file_reader('dataset/Downloaded Dataset/countries.csv')['Country'] )"
   ]
  },
  {
   "cell_type": "code",
   "execution_count": 4,
   "metadata": {},
   "outputs": [
    {
     "name": "stdout",
     "output_type": "stream",
     "text": [
      "above65.csv\n",
      "mobile_users.csv\n",
      "total_pop.csv\n",
      "unemployed.csv\n",
      "gdp_change.csv\n"
     ]
    }
   ],
   "source": [
    "for file in strlist:\n",
    "    print(file)\n",
    "    df = file_reader('dataset/Filled Datasets/'+file)\n",
    "    outdf = pd.DataFrame()\n",
    "    for country in countries:\n",
    "        outdf[country] = df[country]\n",
    "    outdf = outdf.set_index(df.index)\n",
    "    outdf.to_csv('dataset/'+file)"
   ]
  },
  {
   "cell_type": "code",
   "execution_count": null,
   "metadata": {},
   "outputs": [],
   "source": []
  },
  {
   "cell_type": "code",
   "execution_count": null,
   "metadata": {},
   "outputs": [],
   "source": []
  }
 ],
 "metadata": {
  "kernelspec": {
   "display_name": "Python 3",
   "language": "python",
   "name": "python3"
  },
  "language_info": {
   "codemirror_mode": {
    "name": "ipython",
    "version": 3
   },
   "file_extension": ".py",
   "mimetype": "text/x-python",
   "name": "python",
   "nbconvert_exporter": "python",
   "pygments_lexer": "ipython3",
   "version": "3.6.8"
  }
 },
 "nbformat": 4,
 "nbformat_minor": 4
}
