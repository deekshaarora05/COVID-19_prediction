{
 "cells": [
  {
   "cell_type": "code",
   "execution_count": 1,
   "metadata": {},
   "outputs": [],
   "source": [
    "import pandas as pd\n",
    "import numpy as np\n",
    "import math\n",
    "\n",
    "def file_reader(file_location):\n",
    "    if(file_location.endswith('csv')):\n",
    "        return pd.read_csv( file_location , engine = 'python', index_col = 0)\n",
    "    elif (file_location.endswith('tsv')):\n",
    "        return pd.read_csv( file_location , engine = 'python' ,sep = '\\t')\n",
    "\n",
    "def df_reader(file_location):\n",
    "    df = file_reader(file_location)\n",
    "    df = df.drop(['Indicator Name','Indicator Code','Country Code'], axis = 1)\n",
    "    df = df.loc[:, ~df.columns.str.contains('^Unnamed')]\n",
    "    return df.T"
   ]
  },
  {
   "cell_type": "code",
   "execution_count": 2,
   "metadata": {},
   "outputs": [],
   "source": [
    "def year_float2str(year_quarter):\n",
    "    if ( year_quarter - int(year_quarter) == 0):\n",
    "        return ( str( int(year_quarter) - 1 ) + \"Q4\")\n",
    "    elif ( year_quarter - int(year_quarter) == 0.25):\n",
    "        return ( str( int(year_quarter) ) + \"Q1\")\n",
    "    elif ( year_quarter - int(year_quarter) == 0.5):\n",
    "        return ( str( int(year_quarter) ) + \"Q2\")\n",
    "    elif( year_quarter - int(year_quarter) == 0.75):\n",
    "        return ( str( int(year_quarter) ) + \"Q3\")\n",
    "    \n",
    "def year_str2float(year_quarter):\n",
    "    if ( year_quarter.endswith('Q1') ):\n",
    "        return int(year_quarter[:-2]) + 0.25\n",
    "    elif( year_quarter.endswith('Q2') ):\n",
    "        return int(year_quarter[:-2]) + 0.50\n",
    "    elif( year_quarter.endswith('Q3') ):\n",
    "        return int(year_quarter[:-2]) + 0.75\n",
    "    elif( year_quarter.endswith('Q4') ):\n",
    "        return int(year_quarter[:-2]) + 1.00"
   ]
  },
  {
   "cell_type": "code",
   "execution_count": 3,
   "metadata": {},
   "outputs": [],
   "source": [
    "xf = np.linspace(2000.25, 2020.75, 83)\n",
    "x_index = [ year_float2str( xvalue ) for xvalue in xf]\n",
    "\n",
    "def fill_missing_values(dflist):\n",
    "    xt,yt = [],[]\n",
    "    for i in dflist.index:\n",
    "        if( not np.isnan( dflist[i] )):\n",
    "            xt.append( float(i) )\n",
    "            yt.append( dflist[i] ) \n",
    "    from scipy.interpolate import InterpolatedUnivariateSpline\n",
    "    s = InterpolatedUnivariateSpline(xt, yt, k=1)\n",
    "    yf = s(xf)  \n",
    "    return yf\n",
    "\n",
    "def preprocess_dataset(df,x):\n",
    "    updateddf = pd.DataFrame()\n",
    "    updateddf['Year/Quarter'] = x_index\n",
    "    for country in sorted( set( df.keys())  - set(['Year/Quarter']) ):\n",
    "        filled_list = fill_missing_values(df[country])     \n",
    "        updateddf[country] = filled_list\n",
    "    updateddf = updateddf.set_index('Year/Quarter')\n",
    "    return updateddf"
   ]
  },
  {
   "cell_type": "code",
   "execution_count": 4,
   "metadata": {},
   "outputs": [],
   "source": [
    "# Read Datasets in Dataframe\n",
    "strlist = [\n",
    "    'above65.csv',\n",
    "    'area.csv',\n",
    "    'literacy_rate.csv',\n",
    "    'mobile_users.csv',\n",
    "    'total_pop.csv',\n",
    "    'unemployed.csv',\n",
    "    'GDP_Change.csv'\n",
    "      ]"
   ]
  },
  {
   "cell_type": "code",
   "execution_count": 5,
   "metadata": {},
   "outputs": [
    {
     "name": "stdout",
     "output_type": "stream",
     "text": [
      "above65.csv\n",
      "area.csv\n",
      "literacy_rate.csv\n",
      "mobile_users.csv\n",
      "total_pop.csv\n",
      "unemployed.csv\n",
      "GDP_Change.csv\n"
     ]
    }
   ],
   "source": [
    "for loc in strlist:\n",
    "    print(loc)\n",
    "    \n",
    "    if(loc == 'GDP_Change.csv'):\n",
    "        df = file_reader('dataset/Downloaded Dataset/'+loc)\n",
    "        droplist = []\n",
    "        for country in df.keys():\n",
    "            if( np.isnan( df[country]['2020Q2'] ) ):\n",
    "                droplist.append(country)\n",
    "        df       = df.drop(droplist, axis = 1)\n",
    "        index    = [year_str2float(val) for val in df.index]\n",
    "        df['index'] = index\n",
    "        df       = df.set_index('index')\n",
    "        outdf    = preprocess_dataset(df,index)\n",
    "        outdf    = outdf[:-1]\n",
    "    \n",
    "    else:\n",
    "        df       = df_reader('dataset/Downloaded Dataset/'+loc)\n",
    "        df       = df.dropna(axis=1, thresh=5)\n",
    "        outdf    = preprocess_dataset(df,df.index)\n",
    "       \n",
    "\n",
    "    if( loc == 'unemployed.csv'):\n",
    "        df2       = file_reader('dataset/Downloaded Dataset/india-unemployment-rate.csv')\n",
    "        filled_list = fill_missing_values(df2['India'])\n",
    "        outdf['India'] = filled_list\n",
    "        \n",
    "    outdf.to_csv('dataset/'+loc)"
   ]
  },
  {
   "cell_type": "code",
   "execution_count": null,
   "metadata": {},
   "outputs": [],
   "source": []
  },
  {
   "cell_type": "code",
   "execution_count": null,
   "metadata": {},
   "outputs": [],
   "source": []
  }
 ],
 "metadata": {
  "kernelspec": {
   "display_name": "Python 3",
   "language": "python",
   "name": "python3"
  },
  "language_info": {
   "codemirror_mode": {
    "name": "ipython",
    "version": 3
   },
   "file_extension": ".py",
   "mimetype": "text/x-python",
   "name": "python",
   "nbconvert_exporter": "python",
   "pygments_lexer": "ipython3",
   "version": "3.6.8"
  }
 },
 "nbformat": 4,
 "nbformat_minor": 4
}
