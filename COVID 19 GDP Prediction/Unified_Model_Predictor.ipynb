{
 "cells": [
  {
   "cell_type": "code",
   "execution_count": 1,
   "metadata": {},
   "outputs": [],
   "source": [
    "import pandas as pd\n",
    "import numpy as np\n",
    "import math\n",
    "from sklearn import linear_model,ensemble,tree\n",
    "from sklearn.model_selection import train_test_split\n",
    "\n",
    "def file_reader(file_location):\n",
    "    if(file_location.endswith('csv')):\n",
    "        return pd.read_csv( file_location , engine = 'python', index_col=0)\n",
    "    elif (file_location.endswith('tsv')):\n",
    "        return pd.read_csv( file_location , engine = 'python' ,sep = '\\t')\n",
    "    \n",
    "def year_str2float(year_quarter):\n",
    "    if ( year_quarter.endswith('Q1') ):\n",
    "        return int(year_quarter[:-2]) + 0.25\n",
    "    elif( year_quarter.endswith('Q2') ):\n",
    "        return int(year_quarter[:-2]) + 0.50\n",
    "    elif( year_quarter.endswith('Q3') ):\n",
    "        return int(year_quarter[:-2]) + 0.75\n",
    "    elif( year_quarter.endswith('Q4') ):\n",
    "        return int(year_quarter[:-2]) + 1.00\n",
    "    \n",
    "def get_data(country):\n",
    "    x        = []\n",
    "    timeline = [ year_str2float(val) for val in dfx['above65.csv'].index ]\n",
    "    x.append( timeline )\n",
    "    for str in strlist:\n",
    "        x.append( dfx[str][country] )\n",
    "    y        = dfy[country]\n",
    "    x        = np.array(x).T\n",
    "    return x,y\n",
    "\n",
    "def model_fit(x,y, n):\n",
    "    from sklearn import linear_model\n",
    "    #model = linear_model.LinearRegression()\n",
    "    model    = ensemble.RandomForestRegressor(n_estimators=n, criterion ='mse',random_state = 0)\n",
    "    #model    = tree.DecisionTreeRegressor(random_state=0)\n",
    "    model.fit(x, y)\n",
    "    print('R2 Train Score :' ,model.score(x, y))\n",
    "    return model"
   ]
  },
  {
   "cell_type": "code",
   "execution_count": null,
   "metadata": {},
   "outputs": [],
   "source": []
  },
  {
   "cell_type": "code",
   "execution_count": 2,
   "metadata": {},
   "outputs": [],
   "source": [
    "strlist = [\n",
    "    'above65.csv',\n",
    "    #'area.csv',\n",
    "    #'literacy_rate.csv',\n",
    "    'corona_cases.csv',\n",
    "    'mobile_users.csv',\n",
    "    'total_pop.csv',\n",
    "    'unemployed.csv'\n",
    "    \n",
    "      ]"
   ]
  },
  {
   "cell_type": "code",
   "execution_count": 3,
   "metadata": {},
   "outputs": [],
   "source": [
    "dfx = {}\n",
    "for str in strlist:\n",
    "    dfx[str] = file_reader('dataset/'+str)\n",
    "dfy = file_reader('dataset/gdp_change.csv')\n",
    "countries = file_reader('dataset/Downloaded Dataset/countries.csv')"
   ]
  },
  {
   "cell_type": "code",
   "execution_count": 6,
   "metadata": {},
   "outputs": [],
   "source": [
    "xtotal , ytotal = [] ,[]\n",
    "for country in countries['Country']:\n",
    "    x,y = get_data(country)\n",
    "    for t in x[:-1]:\n",
    "        xtotal .append(t)\n",
    "    for t in y:\n",
    "        ytotal .append(t)"
   ]
  },
  {
   "cell_type": "code",
   "execution_count": 7,
   "metadata": {},
   "outputs": [],
   "source": [
    "xtrain, xtest, ytrain, ytest = train_test_split( xtotal, ytotal, test_size=0.3, random_state=0)\n"
   ]
  },
  {
   "cell_type": "code",
   "execution_count": 9,
   "metadata": {
    "scrolled": true
   },
   "outputs": [
    {
     "name": "stdout",
     "output_type": "stream",
     "text": [
      "R2 Train Score : 0.9620280775204049\n",
      "\n",
      " Year/Quarter    2020Q3_Predicted\n",
      "Australia              -6.366524\n",
      "Brazil                 -6.400000\n",
      "Canada                 -7.639337\n",
      "United States          -6.000000\n",
      "United Kingdom         -7.250483\n",
      "France                -13.755489\n",
      "Spain                 -13.104801\n",
      "India                 -14.956022\n",
      "Singapore             -10.100000\n",
      "Thailand               -7.908243\n",
      "China                  -1.498642\n",
      "Greece                -12.843154 \n",
      "\n"
     ]
    }
   ],
   "source": [
    "#for n in range(1 , 10, 1):\n",
    "    model                        = model_fit(xtrain,ytrain, 4)\n",
    "    model.score(xtest, ytest)\n",
    "    q3preds = []\n",
    "    for country in countries['Country']:\n",
    "        x,y   = get_data(country)\n",
    "        preds = model.predict(x[-1:])\n",
    "        q3preds.append( preds[0] )\n",
    "\n",
    "    predicted = dfy.T\n",
    "    predicted['2020Q3_Predicted'] = q3preds\n",
    "    #predicted['2020Q4'] = q4preds\n",
    "    print('\\n', predicted[['2020Q3_Predicted']],'\\n' )"
   ]
  },
  {
   "cell_type": "code",
   "execution_count": null,
   "metadata": {},
   "outputs": [],
   "source": []
  },
  {
   "cell_type": "code",
   "execution_count": null,
   "metadata": {},
   "outputs": [],
   "source": []
  },
  {
   "cell_type": "code",
   "execution_count": null,
   "metadata": {},
   "outputs": [],
   "source": []
  }
 ],
 "metadata": {
  "kernelspec": {
   "display_name": "Python 3",
   "language": "python",
   "name": "python3"
  },
  "language_info": {
   "codemirror_mode": {
    "name": "ipython",
    "version": 3
   },
   "file_extension": ".py",
   "mimetype": "text/x-python",
   "name": "python",
   "nbconvert_exporter": "python",
   "pygments_lexer": "ipython3",
   "version": "3.6.8"
  }
 },
 "nbformat": 4,
 "nbformat_minor": 4
}
